{
 "cells": [
  {
   "cell_type": "code",
   "execution_count": 7,
   "metadata": {},
   "outputs": [
    {
     "name": "stdout",
     "output_type": "stream",
     "text": [
      "4\n"
     ]
    }
   ],
   "source": [
    "print(2+2)"
   ]
  },
  {
   "cell_type": "code",
   "execution_count": 10,
   "metadata": {},
   "outputs": [
    {
     "name": "stdout",
     "output_type": "stream",
     "text": [
      "hello world\n"
     ]
    }
   ],
   "source": [
    "name = \"hello\"\n",
    "last_name = \"world\"\n",
    "full_name = name + \" \" + last_name\n",
    "print(full_name)"
   ]
  },
  {
   "cell_type": "code",
   "execution_count": 19,
   "metadata": {},
   "outputs": [
    {
     "name": "stdout",
     "output_type": "stream",
     "text": [
      "Hello World!\n"
     ]
    }
   ],
   "source": [
    "a = \"Hello World!\"\n",
    "\n",
    "print(a.strip())\n"
   ]
  },
  {
   "cell_type": "code",
   "execution_count": 21,
   "metadata": {},
   "outputs": [
    {
     "name": "stdout",
     "output_type": "stream",
     "text": [
      "3\n"
     ]
    }
   ],
   "source": [
    "num = 7//2\n",
    "print(num)"
   ]
  },
  {
   "cell_type": "code",
   "execution_count": 25,
   "metadata": {},
   "outputs": [
    {
     "name": "stdout",
     "output_type": "stream",
     "text": [
      "------------------------------\n"
     ]
    },
    {
     "ename": "ValueError",
     "evalue": "Unknown format code '\\x20' for object of type 'str'",
     "output_type": "error",
     "traceback": [
      "\u001b[1;31m---------------------------------------------------------------------------\u001b[0m",
      "\u001b[1;31mValueError\u001b[0m                                Traceback (most recent call last)",
      "\u001b[1;32mc:\\Users\\Zübeyir\\OneDrive\\Masaüstü\\Django\\001_Python_Review\\clasnotes.ipynb Hücre 5\u001b[0m in \u001b[0;36m<cell line: 9>\u001b[1;34m()\u001b[0m\n\u001b[0;32m      <a href='vscode-notebook-cell:/c%3A/Users/Z%C3%BCbeyir/OneDrive/Masa%C3%BCst%C3%BC/Django/001_Python_Review/clasnotes.ipynb#W5sZmlsZQ%3D%3D?line=3'>4</a>\u001b[0m     \u001b[39mprint\u001b[39m(\u001b[39m\"\u001b[39m\u001b[39m{\u001b[39m\u001b[39m:10 }: \u001b[39m\u001b[39m{}\u001b[39;00m\u001b[39m\"\u001b[39m\u001b[39m.\u001b[39mformat(key, value))\n\u001b[0;32m      <a href='vscode-notebook-cell:/c%3A/Users/Z%C3%BCbeyir/OneDrive/Masa%C3%BCst%C3%BC/Django/001_Python_Review/clasnotes.ipynb#W5sZmlsZQ%3D%3D?line=5'>6</a>\u001b[0m   \u001b[39mprint\u001b[39m(\u001b[39m\"\u001b[39m\u001b[39m-\u001b[39m\u001b[39m\"\u001b[39m\u001b[39m*\u001b[39m\u001b[39m30\u001b[39m)\n\u001b[1;32m----> <a href='vscode-notebook-cell:/c%3A/Users/Z%C3%BCbeyir/OneDrive/Masa%C3%BCst%C3%BC/Django/001_Python_Review/clasnotes.ipynb#W5sZmlsZQ%3D%3D?line=8'>9</a>\u001b[0m personel_bilgileri(Ad\u001b[39m=\u001b[39;49m\u001b[39m\"\u001b[39;49m\u001b[39mHenry\u001b[39;49m\u001b[39m\"\u001b[39;49m,Soyad\u001b[39m=\u001b[39;49m\u001b[39m\"\u001b[39;49m\u001b[39mFRSTR\u001b[39;49m\u001b[39m\"\u001b[39;49m,Tel\u001b[39m=\u001b[39;49m\u001b[39m\"\u001b[39;49m\u001b[39m040504054\u001b[39;49m\u001b[39m\"\u001b[39;49m,Şehir\u001b[39m=\u001b[39;49m\u001b[39m\"\u001b[39;49m\u001b[39mNewYork\u001b[39;49m\u001b[39m\"\u001b[39;49m)\n\u001b[0;32m     <a href='vscode-notebook-cell:/c%3A/Users/Z%C3%BCbeyir/OneDrive/Masa%C3%BCst%C3%BC/Django/001_Python_Review/clasnotes.ipynb#W5sZmlsZQ%3D%3D?line=9'>10</a>\u001b[0m personel_bilgileri(Ad\u001b[39m=\u001b[39m\u001b[39m\"\u001b[39m\u001b[39mDavid\u001b[39m\u001b[39m\"\u001b[39m,Soyad\u001b[39m=\u001b[39m\u001b[39m\"\u001b[39m\u001b[39mMOSSES\u001b[39m\u001b[39m\"\u001b[39m,Tel\u001b[39m=\u001b[39m\u001b[39m\"\u001b[39m\u001b[39m3040504054\u001b[39m\u001b[39m\"\u001b[39m,Şehir\u001b[39m=\u001b[39m\u001b[39m\"\u001b[39m\u001b[39mAYDIN\u001b[39m\u001b[39m\"\u001b[39m)\n",
      "\u001b[1;32mc:\\Users\\Zübeyir\\OneDrive\\Masaüstü\\Django\\001_Python_Review\\clasnotes.ipynb Hücre 5\u001b[0m in \u001b[0;36mpersonel_bilgileri\u001b[1;34m(**Clarusway)\u001b[0m\n\u001b[0;32m      <a href='vscode-notebook-cell:/c%3A/Users/Z%C3%BCbeyir/OneDrive/Masa%C3%BCst%C3%BC/Django/001_Python_Review/clasnotes.ipynb#W5sZmlsZQ%3D%3D?line=1'>2</a>\u001b[0m \u001b[39mprint\u001b[39m(\u001b[39m\"\u001b[39m\u001b[39m-\u001b[39m\u001b[39m\"\u001b[39m\u001b[39m*\u001b[39m\u001b[39m30\u001b[39m)\n\u001b[0;32m      <a href='vscode-notebook-cell:/c%3A/Users/Z%C3%BCbeyir/OneDrive/Masa%C3%BCst%C3%BC/Django/001_Python_Review/clasnotes.ipynb#W5sZmlsZQ%3D%3D?line=2'>3</a>\u001b[0m \u001b[39mfor\u001b[39;00m key,value \u001b[39min\u001b[39;00m Clarusway\u001b[39m.\u001b[39mitems():\n\u001b[1;32m----> <a href='vscode-notebook-cell:/c%3A/Users/Z%C3%BCbeyir/OneDrive/Masa%C3%BCst%C3%BC/Django/001_Python_Review/clasnotes.ipynb#W5sZmlsZQ%3D%3D?line=3'>4</a>\u001b[0m   \u001b[39mprint\u001b[39m(\u001b[39m\"\u001b[39;49m\u001b[39m{\u001b[39;49m\u001b[39m:10 }: \u001b[39;49m\u001b[39m{}\u001b[39;49;00m\u001b[39m\"\u001b[39;49m\u001b[39m.\u001b[39;49mformat(key, value))\n\u001b[0;32m      <a href='vscode-notebook-cell:/c%3A/Users/Z%C3%BCbeyir/OneDrive/Masa%C3%BCst%C3%BC/Django/001_Python_Review/clasnotes.ipynb#W5sZmlsZQ%3D%3D?line=5'>6</a>\u001b[0m \u001b[39mprint\u001b[39m(\u001b[39m\"\u001b[39m\u001b[39m-\u001b[39m\u001b[39m\"\u001b[39m\u001b[39m*\u001b[39m\u001b[39m30\u001b[39m)\n",
      "\u001b[1;31mValueError\u001b[0m: Unknown format code '\\x20' for object of type 'str'"
     ]
    }
   ],
   "source": [
    "def personel_bilgileri(**Clarusway):\n",
    "  print(\"-\"*30)\n",
    "  for key,value in Clarusway.items():\n",
    "    print(\"{:<10 }: {}\".format(key, value))\n",
    "  \n",
    "  print(\"-\"*30)\n",
    "\n",
    "\n",
    "personel_bilgileri(Ad=\"Henry\",Soyad=\"FRSTR\",Tel=\"040504054\",Şehir=\"NewYork\")\n",
    "personel_bilgileri(Ad=\"David\",Soyad=\"MOSSES\",Tel=\"3040504054\",Şehir=\"AYDIN\")"
   ]
  }
 ],
 "metadata": {
  "kernelspec": {
   "display_name": "Python 3.10.6 64-bit (windows store)",
   "language": "python",
   "name": "python3"
  },
  "language_info": {
   "codemirror_mode": {
    "name": "ipython",
    "version": 3
   },
   "file_extension": ".py",
   "mimetype": "text/x-python",
   "name": "python",
   "nbconvert_exporter": "python",
   "pygments_lexer": "ipython3",
   "version": "3.10.6"
  },
  "orig_nbformat": 4,
  "vscode": {
   "interpreter": {
    "hash": "91f4391ec0077234aef100735889ab025a48f3c7c9f492bd3a9a9dc4371d48a4"
   }
  }
 },
 "nbformat": 4,
 "nbformat_minor": 2
}
